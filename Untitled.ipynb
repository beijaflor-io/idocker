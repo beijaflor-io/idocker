{
 "cells": [
  {
   "cell_type": "code",
   "execution_count": null,
   "metadata": {
    "collapsed": false
   },
   "outputs": [
    {
     "name": "stdout",
     "output_type": "stream",
     "text": [
      "Right [InstructionPos (From (UntaggedImage \"ubuntu\")) \"<string>\" 1]"
     ]
    },
    {
     "data": {
      "text/html": [
       "<code>ok</code>"
      ]
     },
     "execution_count": 1,
     "metadata": {},
     "output_type": "execute_result"
    }
   ],
   "source": [
    "FROM ubuntu"
   ]
  },
  {
   "cell_type": "code",
   "execution_count": null,
   "metadata": {
    "collapsed": true
   },
   "outputs": [],
   "source": []
  }
 ],
 "metadata": {
  "kernelspec": {
   "display_name": "Docker",
   "language": "docker",
   "name": "docker"
  },
  "language_info": {
   "'codemirror_mode'": "dockerfile",
   "'file_extension'": "",
   "'mimetype'": "",
   "'nbconvert_exporter'": "",
   "'pygments_lexer'": "",
   "name": "simple_kernel",
   "version": "1.0"
  }
 },
 "nbformat": 4,
 "nbformat_minor": 0
}
